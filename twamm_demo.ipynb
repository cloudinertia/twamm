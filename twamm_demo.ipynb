{
 "cells": [
  {
   "cell_type": "code",
   "execution_count": 1,
   "id": "3d02775f",
   "metadata": {},
   "outputs": [],
   "source": [
    "from long_term_order import LongTermOrder\n",
    "from twamm import TWAMM\n",
    "from arbitrageur import Arbitrageur"
   ]
  },
  {
   "cell_type": "markdown",
   "id": "8c0eb930",
   "metadata": {},
   "source": [
    " Initialize internal AMM with 200,000 DAI, 100 ETH"
   ]
  },
  {
   "cell_type": "code",
   "execution_count": 2,
   "id": "64e83a31",
   "metadata": {},
   "outputs": [],
   "source": [
    "eth_price = 2000\n",
    "start_eth = 100\n",
    "twamm = TWAMM(eth_price * start_eth, start_eth)\n",
    "arbitrageur = Arbitrageur(twamm)"
   ]
  },
  {
   "cell_type": "markdown",
   "id": "354d19b4",
   "metadata": {},
   "source": [
    "# Block 0\n",
    "\n",
    "Alice puts in an order to buy 1,000 DAI worth of ETH over the next 100 blocks\n",
    "\n",
    "Betty puts in an order to buy 2,000 DAI worth of ETH over the next 50 blocks\n"
   ]
  },
  {
   "cell_type": "code",
   "execution_count": 3,
   "id": "db9b100b",
   "metadata": {},
   "outputs": [],
   "source": [
    "alice_order = LongTermOrder(1000, 100)\n",
    "betty_order = LongTermOrder(2000, 50)\n",
    "\n",
    "twamm.add_x_order(block_number=0, order=alice_order)\n",
    "\n",
    "twamm.add_x_order(block_number=0, order=betty_order)"
   ]
  },
  {
   "cell_type": "markdown",
   "id": "3df9e6ca",
   "metadata": {},
   "source": [
    "# Block 25"
   ]
  },
  {
   "cell_type": "code",
   "execution_count": 4,
   "id": "15421472",
   "metadata": {},
   "outputs": [
    {
     "name": "stdout",
     "output_type": "stream",
     "text": [
      "Alice's and Betty's ongoing buy orders have pushed up prices to 2025.08 over 25 blocks.\n",
      "An arbitrageur sells ETH to bring prices back to 2000.\n",
      "The arbitrageur nets $7.76 in profit.\n",
      "Alice has spent $250.00 for 0.124 ETH\n",
      "Betty has spent $1000.00 for 0.497 ETH\n"
     ]
    }
   ],
   "source": [
    "current_block = 25\n",
    "\n",
    "arbitrageur.do_arb(current_block, eth_price)\n",
    "print(f\"Alice's and Betty's ongoing buy orders have pushed up prices to {arbitrageur.price_before_arb:.2f} over 25 blocks.\")\n",
    "print(f\"An arbitrageur sells ETH to bring prices back to {eth_price}.\")\n",
    "print(f\"The arbitrageur nets ${arbitrageur.get_x_profit(eth_price):.2f} in profit.\")\n",
    "print(f\"Alice has spent ${alice_order.qty_spent():.2f} for {alice_order.qty_filled:.3f} ETH\")\n",
    "print(f\"Betty has spent ${betty_order.qty_spent():.2f} for {betty_order.qty_filled:.3f} ETH\")\n",
    "\n",
    "    \n",
    "    "
   ]
  },
  {
   "cell_type": "markdown",
   "id": "c6c5777f",
   "metadata": {},
   "source": [
    "In addition, Carl adds an order to sell 2 ETH over the next 100 Blocks."
   ]
  },
  {
   "cell_type": "code",
   "execution_count": 5,
   "id": "80a65240",
   "metadata": {},
   "outputs": [],
   "source": [
    "carl_order = LongTermOrder(2, 100)\n",
    "twamm.add_y_order(block_number=current_block, order=carl_order)"
   ]
  },
  {
   "cell_type": "markdown",
   "id": "aaa728fb",
   "metadata": {},
   "source": [
    "# Block 50"
   ]
  },
  {
   "cell_type": "code",
   "execution_count": 6,
   "id": "1a9c4eb0",
   "metadata": {},
   "outputs": [
    {
     "name": "stdout",
     "output_type": "stream",
     "text": [
      "Because of Carl's offsetting order, Alice's and Betty's ongoing buy orders have only pushed up prices to 2004.98 over 25 bocks.\n",
      "The arbitrageur sells ETH to bring prices back to 2000.\n",
      "The arbitrageur's total profit is now $8.07.\n",
      "Alice has spent $500.00 for 0.249 ETH\n",
      "Betty has spent $2000.00 for 0.996 ETH, and her order is now complete.\n",
      "Carl has spent 0.50 ETH for $1001.25.\n"
     ]
    }
   ],
   "source": [
    "current_block = 50\n",
    "\n",
    "arbitrageur.do_arb(current_block, eth_price)\n",
    "print(f\"Because of Carl's offsetting order, Alice's and Betty's ongoing buy orders have only pushed up prices to {arbitrageur.price_before_arb:.2f} over 25 bocks.\")\n",
    "print(f\"The arbitrageur sells ETH to bring prices back to {eth_price}.\")\n",
    "print(f\"The arbitrageur's total profit is now ${arbitrageur.get_x_profit(eth_price):.2f}.\")\n",
    "print(f\"Alice has spent ${alice_order.qty_spent():.2f} for {alice_order.qty_filled:.3f} ETH\")\n",
    "print(f\"Betty has spent ${betty_order.qty_spent():.2f} for {betty_order.qty_filled:.3f} ETH, and her order is now complete.\")\n",
    "print(f\"Carl has spent {carl_order.qty_spent():.2f} ETH for ${carl_order.qty_filled:.2f}.\")\n"
   ]
  },
  {
   "cell_type": "code",
   "execution_count": 7,
   "id": "734898f4",
   "metadata": {},
   "outputs": [
    {
     "data": {
      "text/plain": [
       "2004.9781667310524"
      ]
     },
     "execution_count": 7,
     "metadata": {},
     "output_type": "execute_result"
    }
   ],
   "source": [
    "arbitrageur.price_before_arb\n"
   ]
  },
  {
   "cell_type": "code",
   "execution_count": 8,
   "id": "4ea4d24d",
   "metadata": {},
   "outputs": [
    {
     "data": {
      "text/plain": [
       "8.072982690137678"
      ]
     },
     "execution_count": 8,
     "metadata": {},
     "output_type": "execute_result"
    }
   ],
   "source": [
    "arbitrageur.get_x_profit(2000)"
   ]
  },
  {
   "cell_type": "markdown",
   "id": "23160282",
   "metadata": {},
   "source": [
    "# Block 100"
   ]
  },
  {
   "cell_type": "code",
   "execution_count": 9,
   "id": "115ce597",
   "metadata": {},
   "outputs": [
    {
     "name": "stdout",
     "output_type": "stream",
     "text": [
      "Because Carl's order is relatively larger than Alice's, prices have been pushed down to 1970.41 over 50 blocks.\n",
      "The arbitrageur buys ETH to bring prices back to 2000.\n",
      "The arbitrageur's total profit is now $19.18.\n",
      "Alice has spent $1000.00 for 0.501 ETH, and her order is now complete.\n",
      "Carl has spent 1.50 ETH for $2986.38.\n"
     ]
    }
   ],
   "source": [
    "current_block = 100\n",
    "\n",
    "arbitrageur.do_arb(current_block, eth_price)\n",
    "print(f\"Because Carl's order is relatively larger than Alice's, prices have been pushed down to {arbitrageur.price_before_arb:.2f} over 50 blocks.\")\n",
    "print(f\"The arbitrageur buys ETH to bring prices back to {eth_price}.\")\n",
    "print(f\"The arbitrageur's total profit is now ${arbitrageur.get_x_profit(eth_price):.2f}.\")\n",
    "print(f\"Alice has spent ${alice_order.qty_spent():.2f} for {alice_order.qty_filled:.3f} ETH, and her order is now complete.\")\n",
    "print(f\"Carl has spent {carl_order.qty_spent():.2f} ETH for ${carl_order.qty_filled:.2f}.\")"
   ]
  },
  {
   "cell_type": "markdown",
   "id": "51c6f44d",
   "metadata": {},
   "source": [
    "# Block 125"
   ]
  },
  {
   "cell_type": "code",
   "execution_count": 10,
   "id": "e17bb858",
   "metadata": {},
   "outputs": [
    {
     "name": "stdout",
     "output_type": "stream",
     "text": [
      "With no offsetting order, Carl's ETH sell pushes the price down to 1980.15 over 25 blocks.\n",
      "The arbitrageur buys ETH to bring prices back to 2000.\n",
      "The arbitrageur's total profit is now $24.16.\n",
      "Carl has spent 2.00 ETH for $3981.41, and his order is now complete.\n"
     ]
    }
   ],
   "source": [
    "current_block = 125\n",
    "\n",
    "arbitrageur.do_arb(current_block, eth_price)\n",
    "print(f\"With no offsetting order, Carl's ETH sell pushes the price down to {arbitrageur.price_before_arb:.2f} over 25 blocks.\")\n",
    "print(f\"The arbitrageur buys ETH to bring prices back to {eth_price}.\")\n",
    "print(f\"The arbitrageur's total profit is now ${arbitrageur.get_x_profit(eth_price):.2f}.\")\n",
    "print(f\"Carl has spent {carl_order.qty_spent():.2f} ETH for ${carl_order.qty_filled:.2f}, and his order is now complete.\")"
   ]
  }
 ],
 "metadata": {
  "kernelspec": {
   "display_name": "Python 3",
   "language": "python",
   "name": "python3"
  },
  "language_info": {
   "codemirror_mode": {
    "name": "ipython",
    "version": 3
   },
   "file_extension": ".py",
   "mimetype": "text/x-python",
   "name": "python",
   "nbconvert_exporter": "python",
   "pygments_lexer": "ipython3",
   "version": "3.9.5"
  }
 },
 "nbformat": 4,
 "nbformat_minor": 5
}
